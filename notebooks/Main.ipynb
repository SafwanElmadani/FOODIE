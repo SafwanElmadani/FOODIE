{
 "cells": [
  {
   "cell_type": "code",
   "execution_count": 19,
   "metadata": {},
   "outputs": [],
   "source": [
    "import heapq\n",
    "\n",
    "import sys\n",
    "sys.path.append(\"../\")\n",
    "from tree_search import Node\n",
    "import csv\n",
    "import numpy as np\n",
    "import pandas as pd"
   ]
  },
  {
   "cell_type": "code",
   "execution_count": 45,
   "metadata": {},
   "outputs": [],
   "source": [
    "def read_node_fron_file(file_name):\n",
    "    graph = {}\n",
    "\n",
    "    with open(file_name, 'r') as csv_file:\n",
    "        csv_reader = csv.reader(csv_file)\n",
    "\n",
    "        # Skip the header row\n",
    "        next(csv_reader)\n",
    "\n",
    "        for row in csv_reader:\n",
    "            #print(row[0])\n",
    "            graph = add_to_graph(row, graph)\n",
    "\n",
    "    return graph\n",
    "\n",
    "def add_to_graph(row, graph):\n",
    "    parent_name = row[0]\n",
    "    parent_g_n = float(row[1])\n",
    "    parent_coords = float(row[2]),float(row[3])\n",
    "\n",
    "    child_name = row[4]\n",
    "    child_g_n = float(row[5])\n",
    "    child_coords = float(row[6]), float(row[7])\n",
    "\n",
    "    #check if the parent is alreay exist\n",
    "    if (parent_name in graph):\n",
    "        parent_node = graph[parent_name]\n",
    "    else:\n",
    "        parent_node = Node(parent_name, parent_coords, None, parent_g_n, [])\n",
    "        graph[parent_node.name] = parent_node\n",
    "        \n",
    "    child_node = Node(child_name, child_coords, parent_node, child_g_n,[])\n",
    "    parent_node.children.append(child_node)\n",
    "\n",
    "    graph[child_node.name] = child_node\n",
    "\n",
    "    return graph"
   ]
  },
  {
   "cell_type": "code",
   "execution_count": 46,
   "metadata": {},
   "outputs": [],
   "source": [
    "def heuristic(node, goal_state):\n",
    "    \n",
    "    # distance to energy\n",
    "\n",
    "    distance = np.linalg.norm(np.array(node.coords) - np.array(goal_state.coords))\n",
    "    energy = distance * 1000\n",
    "\n",
    "    return energy\n"
   ]
  },
  {
   "cell_type": "code",
   "execution_count": 99,
   "metadata": {},
   "outputs": [],
   "source": [
    "def astar(start_state, goal_state, search_tree):\n",
    "    # Initialize the open and closed sets\n",
    "    open_set = [(0, start_state)]\n",
    "    closed_set = set()\n",
    "    \n",
    "    # Initialize the dictionary to keep track of the path and cost\n",
    "    path = {}\n",
    "    cost = {}\n",
    "    path[start_state] = None\n",
    "    cost[start_state] = 0\n",
    "    \n",
    "    # Loop until the open set is empty\n",
    "    while len(open_set) > 0:\n",
    "        # Pop the node with the smallest f value from the open set\n",
    "        current_node = heapq.heappop(open_set)[1]\n",
    "        print(current_node)\n",
    "        current_node = search_tree[current_node].name\n",
    "        \n",
    "        # Check if the current node is the goal state\n",
    "        if current_node == goal_state:\n",
    "            # Construct the path and return it along with the total cost\n",
    "            total_cost = cost[current_node]\n",
    "            current_path = []\n",
    "            while current_node is not None:\n",
    "                current_path.append(current_node)\n",
    "                current_node = path[current_node]\n",
    "            current_path.reverse()\n",
    "            return current_path, total_cost\n",
    "        \n",
    "        # Add the current node to the closed set\n",
    "        closed_set.add(current_node)\n",
    "        \n",
    "        # Loop through the neighbors of the current node\n",
    "        # print(type(current_node))\n",
    "        # print(search_tree[current_node].children)\n",
    "        for neighbor in search_tree[current_node].children:\n",
    "            edge_cost = neighbor.g_n\n",
    "            neighbor = neighbor.name\n",
    "            print(neighbor)\n",
    "            # Skip neighbors that have already been visited\n",
    "            if neighbor in closed_set:\n",
    "                continue\n",
    "            \n",
    "            # Calculate the tentative g and f values for the neighbor\n",
    "            tentative_g = cost[current_node] + edge_cost\n",
    "            tentative_f = tentative_g + heuristic(search_tree[neighbor], search_tree[goal_state])\n",
    "            \n",
    "            # Add the neighbor to the open set if it's not already there\n",
    "            if (tentative_f, neighbor) not in open_set:\n",
    "                heapq.heappush(open_set, (tentative_f, neighbor))\n",
    "                \n",
    "            # Update the path and cost if the tentative g value is better than the current one\n",
    "            if tentative_g < cost.get(neighbor, float('inf')):\n",
    "                path[neighbor] = current_node\n",
    "                cost[neighbor] = tentative_g\n",
    "                \n",
    "    # If we reach this point, there is no path from the start to the goal state\n",
    "    return None, None\n"
   ]
  },
  {
   "cell_type": "code",
   "execution_count": 82,
   "metadata": {},
   "outputs": [
    {
     "name": "stdout",
     "output_type": "stream",
     "text": [
      "<tree_search.Node object at 0x000001CE56B684F0>\n",
      "<tree_search.Node object at 0x000001CE56B695A0>\n",
      "<tree_search.Node object at 0x000001CE56B6BDF0>\n"
     ]
    }
   ],
   "source": [
    "for neighbor in campus_map[\"SU\"].children:\n",
    "    print(neighbor)"
   ]
  },
  {
   "cell_type": "code",
   "execution_count": 100,
   "metadata": {},
   "outputs": [
    {
     "name": "stdout",
     "output_type": "stream",
     "text": [
      "SU\n",
      "SU\n",
      "SIE\n",
      "MME\n",
      "2ndStG\n",
      "2ndStG\n",
      "SIE\n",
      "ChBld\n",
      "MME\n",
      "YH\n",
      "SofI\n",
      "S&Hsci\n",
      "ChBld\n",
      "YH\n",
      "YH\n"
     ]
    },
    {
     "ename": "TypeError",
     "evalue": "unsupported operand type(s) for +=: 'float' and 'NoneType'",
     "output_type": "error",
     "traceback": [
      "\u001b[1;31m---------------------------------------------------------------------------\u001b[0m",
      "\u001b[1;31mTypeError\u001b[0m                                 Traceback (most recent call last)",
      "Cell \u001b[1;32mIn[100], line 27\u001b[0m\n\u001b[0;32m     25\u001b[0m     path, cost \u001b[39m=\u001b[39m astar(assignments[\u001b[39m1\u001b[39m][\u001b[39m\"\u001b[39m\u001b[39mLocation\u001b[39m\u001b[39m\"\u001b[39m], start_state, campus_map)\n\u001b[0;32m     26\u001b[0m     overall_path\u001b[39m.\u001b[39mappend(path)\n\u001b[1;32m---> 27\u001b[0m     total_cost \u001b[39m+\u001b[39m\u001b[39m=\u001b[39m cost\n\u001b[0;32m     29\u001b[0m \u001b[39mprint\u001b[39m(\u001b[39m\"\u001b[39m\u001b[39mBot \u001b[39m\u001b[39m\"\u001b[39m, bot, \u001b[39m\"\u001b[39m\u001b[39m Used \u001b[39m\u001b[39m\"\u001b[39m, total_cost, \u001b[39m\"\u001b[39m\u001b[39m Energy Units\u001b[39m\u001b[39m\"\u001b[39m)\n\u001b[0;32m     30\u001b[0m \u001b[39mprint\u001b[39m(\u001b[39m\"\u001b[39m\u001b[39mBot \u001b[39m\u001b[39m\"\u001b[39m, bot, \u001b[39m\"\u001b[39m\u001b[39m Traveled the Following Path:\u001b[39m\u001b[39m\"\u001b[39m)\n",
      "\u001b[1;31mTypeError\u001b[0m: unsupported operand type(s) for +=: 'float' and 'NoneType'"
     ]
    }
   ],
   "source": [
    "for bot in botAssignments:\n",
    "    overall_path = []\n",
    "    total_cost = 0\n",
    "\n",
    "    assignments = botAssignments[bot]\n",
    "\n",
    "    if ( (len(assignments) == 2) & (assignments[0][\"Location\"] == assignments[1][\"Location\"]) ) | (len(assignments) == 1):\n",
    "        path, cost = astar(start_state, assignments[0][\"Location\"], campus_map)\n",
    "        overall_path.append(path)\n",
    "        total_cost += cost\n",
    "\n",
    "        path, cost = astar(assignments[0][\"Location\"], start_state, campus_map)\n",
    "        overall_path.append(path)\n",
    "        total_cost += cost\n",
    "\n",
    "    else:\n",
    "        path, cost = astar(start_state, assignments[0][\"Location\"], campus_map)\n",
    "        overall_path.append(path)\n",
    "        total_cost += cost\n",
    "\n",
    "        path, cost = astar(assignments[0][\"Location\"], assignments[1][\"Location\"], campus_map)\n",
    "        overall_path.append(path)\n",
    "        total_cost += cost\n",
    "\n",
    "        path, cost = astar(assignments[1][\"Location\"], start_state, campus_map)\n",
    "        overall_path.append(path)\n",
    "        total_cost += cost\n",
    "    \n",
    "    print(\"Bot \", bot, \" Used \", total_cost, \" Energy Units\")\n",
    "    print(\"Bot \", bot, \" Traveled the Following Path:\")\n",
    "    print(overall_path)"
   ]
  },
  {
   "cell_type": "code",
   "execution_count": 47,
   "metadata": {},
   "outputs": [
    {
     "data": {
      "text/plain": [
       "dict_keys(['SU', 'SIE', 'MME', '2ndStG', 'ChBld', 'YH', 'SofI', 'S&Hsci'])"
      ]
     },
     "execution_count": 47,
     "metadata": {},
     "output_type": "execute_result"
    }
   ],
   "source": [
    "start_state = \"SU\"\n",
    "\n",
    "campus_map = read_node_fron_file(\"../graph_data\")\n",
    "campus_map.keys()"
   ]
  },
  {
   "cell_type": "code",
   "execution_count": 40,
   "metadata": {},
   "outputs": [
    {
     "data": {
      "text/plain": [
       "[{'Location': 'SU',\n",
       "  'State': <tree_search.Node at 0x1ce59bf1db0>,\n",
       "  'Items': ['Chickfila']},\n",
       " {'Location': 'SIE',\n",
       "  'State': <tree_search.Node at 0x1ce59bf2f80>,\n",
       "  'Items': ['Burger']},\n",
       " {'Location': 'YH',\n",
       "  'State': <tree_search.Node at 0x1ce59bf35e0>,\n",
       "  'Items': ['Canes']},\n",
       " {'Location': 'SofI',\n",
       "  'State': <tree_search.Node at 0x1ce59bf2e90>,\n",
       "  'Items': ['Burrito']},\n",
       " {'Location': 'SIE',\n",
       "  'State': <tree_search.Node at 0x1ce59bf2f80>,\n",
       "  'Items': ['Panera']}]"
      ]
     },
     "execution_count": 40,
     "metadata": {},
     "output_type": "execute_result"
    }
   ],
   "source": [
    "order1 = {\"Location\": \"SU\",\n",
    "         \"State\": campus_map[\"SU\"],\n",
    "         \"Items\": [\"Chickfila\"]}\n",
    "order2 = {\"Location\": \"SIE\",\n",
    "         \"State\": campus_map[\"SIE\"],\n",
    "         \"Items\": [\"Burger\"]}\n",
    "order3 = {\"Location\": \"YH\",\n",
    "         \"State\": campus_map[\"YH\"],\n",
    "         \"Items\": [\"Canes\"]}\n",
    "order4 = {\"Location\": \"SofI\",\n",
    "         \"State\": campus_map[\"SofI\"],\n",
    "         \"Items\": [\"Burrito\"]}\n",
    "order5 = {\"Location\": \"SIE\",\n",
    "         \"State\": campus_map[\"SIE\"],\n",
    "         \"Items\": [\"Panera\"]}\n",
    "\n",
    "orders = [order1, order2, order3, order4, order5]\n",
    "orders"
   ]
  },
  {
   "attachments": {},
   "cell_type": "markdown",
   "metadata": {},
   "source": [
    "Assignments"
   ]
  },
  {
   "cell_type": "code",
   "execution_count": 41,
   "metadata": {},
   "outputs": [
    {
     "name": "stdout",
     "output_type": "stream",
     "text": [
      "{'Bot1': [{'Location': 'SU', 'State': <tree_search.Node object at 0x000001CE59BF1DB0>, 'Items': ['Chickfila']}, {'Location': 'YH', 'State': <tree_search.Node object at 0x000001CE59BF35E0>, 'Items': ['Canes']}], 'Bot2': [{'Location': 'SIE', 'State': <tree_search.Node object at 0x000001CE59BF2F80>, 'Items': ['Burger']}, {'Location': 'SIE', 'State': <tree_search.Node object at 0x000001CE59BF2F80>, 'Items': ['Panera']}], 'Bot3': [{'Location': 'SofI', 'State': <tree_search.Node object at 0x000001CE59BF2E90>, 'Items': ['Burrito']}]}\n"
     ]
    }
   ],
   "source": [
    "botAssignments = {}\n",
    "\n",
    "for bot in [\"Bot1\", \"Bot2\", \"Bot3\"]:\n",
    "    botAssignments[bot] = []\n",
    "\n",
    "    for order in orders:\n",
    "        locations = [order[\"Location\"] for order in orders]\n",
    "\n",
    "        if locations.count(order[\"Location\"]) >= 2:\n",
    "\n",
    "            same_location_orders = [o for o in orders if order[\"Location\"] == o[\"Location\"]]\n",
    "\n",
    "            botAssignments[bot] = same_location_orders\n",
    "            orders.remove(same_location_orders[0])\n",
    "            orders.remove(same_location_orders[1])\n",
    "\n",
    "        else:\n",
    "            botAssignments[bot].append(order)\n",
    "            orders.remove(order)\n",
    "\n",
    "        if len(botAssignments[bot]) == 2:\n",
    "            break\n",
    "\n",
    "print(botAssignments)"
   ]
  },
  {
   "attachments": {},
   "cell_type": "markdown",
   "metadata": {},
   "source": [
    "Delivery"
   ]
  }
 ],
 "metadata": {
  "kernelspec": {
   "display_name": "base",
   "language": "python",
   "name": "python3"
  },
  "language_info": {
   "codemirror_mode": {
    "name": "ipython",
    "version": 3
   },
   "file_extension": ".py",
   "mimetype": "text/x-python",
   "name": "python",
   "nbconvert_exporter": "python",
   "pygments_lexer": "ipython3",
   "version": "3.10.9"
  },
  "orig_nbformat": 4
 },
 "nbformat": 4,
 "nbformat_minor": 2
}
