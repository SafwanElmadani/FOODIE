{
 "cells": [
  {
   "cell_type": "code",
   "execution_count": 2190,
   "metadata": {},
   "outputs": [],
   "source": [
    "import sys\n",
    "\n",
    "from tree_search import Map_Constructor, astar\n",
    "Tree = Map_Constructor()\n",
    "search = astar()\n",
    "\n",
    "import random"
   ]
  },
  {
   "attachments": {},
   "cell_type": "markdown",
   "metadata": {},
   "source": [
    "### Load in Map (Search Tree)"
   ]
  },
  {
   "cell_type": "code",
   "execution_count": 2191,
   "metadata": {},
   "outputs": [
    {
     "data": {
      "text/plain": [
       "['SU',\n",
       " 'SIE',\n",
       " 'MME',\n",
       " '2ndStG',\n",
       " 'ChBld',\n",
       " 'YH',\n",
       " 'SofI',\n",
       " 'S&Hsci',\n",
       " 'IofR',\n",
       " 'ECE',\n",
       " 'CCP',\n",
       " 'ArchB']"
      ]
     },
     "execution_count": 2191,
     "metadata": {},
     "output_type": "execute_result"
    }
   ],
   "source": [
    "campus_map = Tree.read_node_from_file(\"graph_data\")\n",
    "delivery_locations = list(campus_map.keys())\n",
    "delivery_locations"
   ]
  },
  {
   "attachments": {},
   "cell_type": "markdown",
   "metadata": {},
   "source": [
    "![image description](Map.png)"
   ]
  },
  {
   "cell_type": "code",
   "execution_count": 2192,
   "metadata": {},
   "outputs": [
    {
     "name": "stdout",
     "output_type": "stream",
     "text": [
      "Complete Map:\n",
      "\n",
      "SU ['SIE', 'MME', '2ndStG']\n",
      "SIE ['SU', 'ChBld']\n",
      "MME ['SU', 'YH', 'SofI', 'S&Hsci']\n",
      "2ndStG ['SU', 'IofR']\n",
      "ChBld ['SIE', 'YH']\n",
      "YH ['MME', 'ChBld', 'SofI']\n",
      "SofI ['MME', 'CCP', 'YH']\n",
      "S&Hsci ['MME', 'IofR', 'ECE']\n",
      "IofR ['2ndStG', 'S&Hsci']\n",
      "ECE ['S&Hsci']\n",
      "CCP ['SofI', 'ArchB']\n",
      "ArchB ['CCP']\n"
     ]
    }
   ],
   "source": [
    "print(\"Complete Map:\\n\")\n",
    "\n",
    "for l in delivery_locations:\n",
    "    print(l,[n.name for n in campus_map[l].children])"
   ]
  },
  {
   "attachments": {},
   "cell_type": "markdown",
   "metadata": {},
   "source": [
    "### Randomly Block one of the paths"
   ]
  },
  {
   "cell_type": "code",
   "execution_count": 2193,
   "metadata": {},
   "outputs": [
    {
     "name": "stdout",
     "output_type": "stream",
     "text": [
      "Remaining Children for  SU :\n",
      "['SIE', '2ndStG']\n",
      "Remaining Children for  YH :\n",
      "['MME', 'ChBld']\n"
     ]
    }
   ],
   "source": [
    "# There is maintenance all the time around Yuma Hall and The Student Union\n",
    "# At Yuma, and at the Student Union, one path from each node is randomly blocked!!\n",
    "block_nodes = [\"SU\", \"YH\"]\n",
    "\n",
    "campus_map = Tree.read_node_from_file(\"graph_data\")\n",
    "\n",
    "for node in block_nodes:\n",
    "    random_index = random.randint(0,len(campus_map[node].children)-1) # Choose a random number\n",
    "\n",
    "    child_to_drop = (campus_map[node].children)[random_index]\n",
    "\n",
    "    # To block path, we must remove the children relationships between the two nodes\n",
    "    child_to_drop.children.remove(campus_map[node]) # Remove parent node from child\n",
    "    campus_map[node].children.pop(random_index) # Remove child from parent node\n",
    "\n",
    "    print(\"Remaining Children for \", node, \":\")\n",
    "    print([name.name for name in campus_map[node].children])"
   ]
  },
  {
   "cell_type": "code",
   "execution_count": 2194,
   "metadata": {},
   "outputs": [
    {
     "name": "stdout",
     "output_type": "stream",
     "text": [
      "New Map:\n",
      "\n",
      "SU ['SIE', '2ndStG']\n",
      "SIE ['SU', 'ChBld']\n",
      "MME ['YH', 'SofI', 'S&Hsci']\n",
      "2ndStG ['SU', 'IofR']\n",
      "ChBld ['SIE', 'YH']\n",
      "YH ['MME', 'ChBld']\n",
      "SofI ['MME', 'CCP']\n",
      "S&Hsci ['MME', 'IofR', 'ECE']\n",
      "IofR ['2ndStG', 'S&Hsci']\n",
      "ECE ['S&Hsci']\n",
      "CCP ['SofI', 'ArchB']\n",
      "ArchB ['CCP']\n"
     ]
    }
   ],
   "source": [
    "print(\"New Map:\\n\")\n",
    "for l in delivery_locations:\n",
    "    print(l,[n.name for n in campus_map[l].children])"
   ]
  },
  {
   "attachments": {},
   "cell_type": "markdown",
   "metadata": {},
   "source": [
    "### Define a list of orders\n",
    "\n",
    "Manually define your choices, Or randomly select delivery locations and food items"
   ]
  },
  {
   "attachments": {},
   "cell_type": "markdown",
   "metadata": {},
   "source": [
    "#### Manual Order Creation"
   ]
  },
  {
   "cell_type": "code",
   "execution_count": 2195,
   "metadata": {},
   "outputs": [
    {
     "data": {
      "text/plain": [
       "[{'Location': 'SU',\n",
       "  'State': <tree_search.Node at 0x20f9646f3a0>,\n",
       "  'Items': ['Chickfila']},\n",
       " {'Location': 'SIE',\n",
       "  'State': <tree_search.Node at 0x20f9646e5f0>,\n",
       "  'Items': ['Burger']},\n",
       " {'Location': 'YH',\n",
       "  'State': <tree_search.Node at 0x20f96287fa0>,\n",
       "  'Items': ['Canes']},\n",
       " {'Location': 'SofI',\n",
       "  'State': <tree_search.Node at 0x20f962854b0>,\n",
       "  'Items': ['Burrito']},\n",
       " {'Location': 'SIE',\n",
       "  'State': <tree_search.Node at 0x20f9646e5f0>,\n",
       "  'Items': ['Panera']}]"
      ]
     },
     "execution_count": 2195,
     "metadata": {},
     "output_type": "execute_result"
    }
   ],
   "source": [
    "order1 = {\"Location\": \"SU\",\n",
    "         \"State\": campus_map[\"SU\"],\n",
    "         \"Items\": [\"Chickfila\"]}\n",
    "order2 = {\"Location\": \"SIE\",\n",
    "         \"State\": campus_map[\"SIE\"],\n",
    "         \"Items\": [\"Burger\"]}\n",
    "order3 = {\"Location\": \"YH\",\n",
    "         \"State\": campus_map[\"YH\"],\n",
    "         \"Items\": [\"Canes\"]}\n",
    "order4 = {\"Location\": \"SofI\",\n",
    "         \"State\": campus_map[\"SofI\"],\n",
    "         \"Items\": [\"Burrito\"]}\n",
    "order5 = {\"Location\": \"SIE\",\n",
    "         \"State\": campus_map[\"SIE\"],\n",
    "         \"Items\": [\"Panera\"]}\n",
    "\n",
    "orders = [order1, order2, order3, order4, order5]\n",
    "orders"
   ]
  },
  {
   "attachments": {},
   "cell_type": "markdown",
   "metadata": {},
   "source": [
    "#### Random Order Creation"
   ]
  },
  {
   "cell_type": "code",
   "execution_count": 2196,
   "metadata": {},
   "outputs": [
    {
     "data": {
      "text/plain": [
       "[{'Location': 'S&Hsci',\n",
       "  'State': <tree_search.Node at 0x20f95304ac0>,\n",
       "  'Items': ['Coffee', 'Bagel']},\n",
       " {'Location': 'IofR',\n",
       "  'State': <tree_search.Node at 0x20f95307f10>,\n",
       "  'Items': ['Coffee', 'Bagel']},\n",
       " {'Location': '2ndStG',\n",
       "  'State': <tree_search.Node at 0x20f96285ff0>,\n",
       "  'Items': ['Fruit Bowl']},\n",
       " {'Location': 'ChBld',\n",
       "  'State': <tree_search.Node at 0x20f96285a20>,\n",
       "  'Items': ['Coffee', 'Bagel']},\n",
       " {'Location': 'SofI',\n",
       "  'State': <tree_search.Node at 0x20f962854b0>,\n",
       "  'Items': ['Panera Salad', 'Iced Tea']}]"
      ]
     },
     "execution_count": 2196,
     "metadata": {},
     "output_type": "execute_result"
    }
   ],
   "source": [
    "orders = []\n",
    "\n",
    "food_items = [\n",
    "    [\"Burrito\"],\n",
    "    [\"Coffee\", \"Bagel\"],\n",
    "    [\"Chickfila\"],\n",
    "    [\"Panera Salad\", \"Iced Tea\"],\n",
    "    [\"Canes Chicken Fingers\", \"Lemonade\"],\n",
    "    [\"Fruit Bowl\"],\n",
    "    [\"Tacos\", \"Coca Cola\"],\n",
    "    [\"Steak\", \"Potatoes\"],\n",
    "    [\"Wine\", \"Filet Mignon\", \"Asparagus\"]\n",
    "]\n",
    "\n",
    "maxOrders = 5\n",
    "\n",
    "random_indexes = random.sample(range(1,len(delivery_locations)), maxOrders-1) # Choose a set of unique random numbers\n",
    "random_indexes.append(random.randint(1,len(delivery_locations)-1))\n",
    "\n",
    "for random_index in random_indexes:\n",
    "    order = {}\n",
    "\n",
    "    location = delivery_locations[random_index]\n",
    "\n",
    "    rand_food_item_index = random.randint(1,len(food_items)-1) # For food items\n",
    "\n",
    "    order[\"Location\"] = location\n",
    "    order[\"State\"] = campus_map[location]\n",
    "    order[\"Items\"] = food_items[rand_food_item_index]\n",
    "\n",
    "    orders.append(order)\n",
    "\n",
    "orders"
   ]
  },
  {
   "attachments": {},
   "cell_type": "markdown",
   "metadata": {},
   "source": [
    "Assignments"
   ]
  },
  {
   "cell_type": "code",
   "execution_count": 2197,
   "metadata": {},
   "outputs": [
    {
     "data": {
      "text/plain": [
       "{'Bot1': [{'Location': 'S&Hsci',\n",
       "   'State': <tree_search.Node at 0x20f95304ac0>,\n",
       "   'Items': ['Coffee', 'Bagel']},\n",
       "  {'Location': 'IofR',\n",
       "   'State': <tree_search.Node at 0x20f95307f10>,\n",
       "   'Items': ['Coffee', 'Bagel']}],\n",
       " 'Bot2': [{'Location': '2ndStG',\n",
       "   'State': <tree_search.Node at 0x20f96285ff0>,\n",
       "   'Items': ['Fruit Bowl']},\n",
       "  {'Location': 'ChBld',\n",
       "   'State': <tree_search.Node at 0x20f96285a20>,\n",
       "   'Items': ['Coffee', 'Bagel']}],\n",
       " 'Bot3': [{'Location': 'SofI',\n",
       "   'State': <tree_search.Node at 0x20f962854b0>,\n",
       "   'Items': ['Panera Salad', 'Iced Tea']}]}"
      ]
     },
     "execution_count": 2197,
     "metadata": {},
     "output_type": "execute_result"
    }
   ],
   "source": [
    "botAssignments = {}\n",
    "\n",
    "\n",
    "for bot in [\"Bot1\", \"Bot2\", \"Bot3\"]:\n",
    "    botAssignments[bot] = []\n",
    "\n",
    "    for i in range(len(orders)):\n",
    "\n",
    "        order_ = orders[0]\n",
    "        locations = [order[\"Location\"] for order in orders]\n",
    "\n",
    "        if locations.count(order_[\"Location\"]) >= 2:\n",
    "\n",
    "            same_location_orders = [o for o in orders if order_[\"Location\"] == o[\"Location\"]]\n",
    "            \n",
    "            print(orders)\n",
    "            botAssignments[bot] = same_location_orders\n",
    "            print(same_location_orders)\n",
    "            orders.remove(same_location_orders[0])\n",
    "            orders.remove(same_location_orders[1])\n",
    "            print(orders)\n",
    "\n",
    "        else:\n",
    "            botAssignments[bot].append(order_)\n",
    "            orders.remove(order_)\n",
    "\n",
    "        if len(botAssignments[bot]) == 2:\n",
    "            break\n",
    "\n",
    "botAssignments"
   ]
  },
  {
   "attachments": {},
   "cell_type": "markdown",
   "metadata": {},
   "source": [
    "### Delivery (A-Star)"
   ]
  },
  {
   "cell_type": "code",
   "execution_count": 2198,
   "metadata": {},
   "outputs": [
    {
     "name": "stdout",
     "output_type": "stream",
     "text": [
      ">>>>  Bot1  <<<<\n",
      "ORDER  1       ENERGY USED:  1639.0\n",
      "Delivery Location: S&Hsci      Items:  ['Coffee', 'Bagel']\n",
      "ORDER  2       ENERGY USED:  1639.0\n",
      "Delivery Location: IofR      Items:  ['Coffee', 'Bagel']\n",
      "Overall Path: [['SU', 'SIE', 'ChBld', 'YH', 'MME', 'S&Hsci'], ['S&Hsci', 'IofR'], ['IofR', '2ndStG', 'SU']]\n",
      "\n",
      ">>>>  Bot2  <<<<\n",
      "ORDER  1       ENERGY USED:  684.0\n",
      "Delivery Location: 2ndStG      Items:  ['Fruit Bowl']\n",
      "ORDER  2       ENERGY USED:  684.0\n",
      "Delivery Location: ChBld      Items:  ['Coffee', 'Bagel']\n",
      "Overall Path: [['SU', '2ndStG'], ['2ndStG', 'SU', 'SIE', 'ChBld'], ['ChBld', 'SIE', 'SU']]\n",
      "\n",
      ">>>>  Bot3  <<<<\n",
      "ORDER  1       ENERGY USED:  2105.0\n",
      "Delivery Location: SofI      Items:  ['Panera Salad', 'Iced Tea']\n",
      "Overall Path: [['SU', 'SIE', 'ChBld', 'YH', 'MME', 'SofI'], ['SofI', 'MME', 'YH', 'ChBld', 'SIE', 'SU']]\n",
      "\n"
     ]
    }
   ],
   "source": [
    "start_state = \"SU\" # Order pickup location\n",
    "\n",
    "for bot in botAssignments:\n",
    "    if bot == \"Bot3\" and len(botAssignments[bot]) == 0:\n",
    "        break\n",
    "    \n",
    "    overall_path = []\n",
    "    total_cost = 0\n",
    "\n",
    "    assignments = botAssignments[bot]\n",
    "\n",
    "    if (len(assignments) == 1) or ( (len(assignments) == 2) and (assignments[0][\"Location\"] == assignments[1][\"Location\"]) ):\n",
    "        path, cost = search.astar(start_state, assignments[0][\"Location\"], campus_map)\n",
    "        overall_path.append(path)\n",
    "        #print(overall_path)\n",
    "        if cost is not None:\n",
    "            total_cost += cost\n",
    "\n",
    "        path, cost = search.astar(assignments[0][\"Location\"], start_state, campus_map)\n",
    "        overall_path.append(path)\n",
    "        #print(overall_path)\n",
    "        if cost is not None:\n",
    "            total_cost += cost\n",
    "\n",
    "    else:\n",
    "        path, cost = search.astar(start_state, assignments[0][\"Location\"], campus_map)\n",
    "        overall_path.append(path)\n",
    "        #print(overall_path)\n",
    "        if cost is not None:\n",
    "            total_cost += cost\n",
    "\n",
    "        path, cost = search.astar(assignments[0][\"Location\"], assignments[1][\"Location\"], campus_map)\n",
    "        overall_path.append(path)\n",
    "        #print(overall_path)\n",
    "        if cost is not None:\n",
    "            total_cost += cost\n",
    "\n",
    "        path, cost = search.astar(assignments[1][\"Location\"], start_state, campus_map)\n",
    "        overall_path.append(path)\n",
    "        #print(overall_path)\n",
    "        if cost is not None:\n",
    "            total_cost += cost\n",
    "\n",
    "    print(\">>>> \", bot, \" <<<<\")\n",
    "    for i,order in enumerate(botAssignments[bot]):\n",
    "        if total_cost == 0:\n",
    "            print(\"No Path to Delivery Location\")\n",
    "\n",
    "        print(\"ORDER \", i+1, \"      ENERGY USED: \", total_cost)\n",
    "        print(\"Delivery Location:\", order[\"Location\"],\"     Items: \", order[\"Items\"])\n",
    "\n",
    "    print(\"Overall Path:\", overall_path)\n",
    "    print()"
   ]
  }
 ],
 "metadata": {
  "kernelspec": {
   "display_name": "base",
   "language": "python",
   "name": "python3"
  },
  "language_info": {
   "codemirror_mode": {
    "name": "ipython",
    "version": 3
   },
   "file_extension": ".py",
   "mimetype": "text/x-python",
   "name": "python",
   "nbconvert_exporter": "python",
   "pygments_lexer": "ipython3",
   "version": "3.10.9"
  },
  "orig_nbformat": 4
 },
 "nbformat": 4,
 "nbformat_minor": 2
}
