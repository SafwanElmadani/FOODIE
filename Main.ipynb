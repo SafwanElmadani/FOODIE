{
 "cells": [
  {
   "cell_type": "code",
   "execution_count": 20,
   "metadata": {},
   "outputs": [],
   "source": [
    "import sys\n",
    "\n",
    "from tree_search import Map_Constructor, astar\n",
    "Tree = Map_Constructor()\n",
    "search = astar()\n",
    "\n",
    "import random"
   ]
  },
  {
   "attachments": {},
   "cell_type": "markdown",
   "metadata": {},
   "source": [
    "### Load in Map (Search Tree)"
   ]
  },
  {
   "cell_type": "code",
   "execution_count": 21,
   "metadata": {},
   "outputs": [
    {
     "name": "stdout",
     "output_type": "stream",
     "text": [
      "List of all nodes in search tree:\n"
     ]
    },
    {
     "data": {
      "text/plain": [
       "['SU',\n",
       " 'SIE',\n",
       " 'MME',\n",
       " '2ndStG',\n",
       " 'ChBld',\n",
       " 'YH',\n",
       " 'SofI',\n",
       " 'S&Hsci',\n",
       " 'IofR',\n",
       " 'ECE',\n",
       " 'CCP',\n",
       " 'ArchB']"
      ]
     },
     "execution_count": 21,
     "metadata": {},
     "output_type": "execute_result"
    }
   ],
   "source": [
    "campus_map = Tree.read_node_from_file(\"graph_data\")\n",
    "delivery_locations = list(campus_map.keys())\n",
    "print(\"List of all nodes in search tree:\")\n",
    "delivery_locations"
   ]
  },
  {
   "attachments": {},
   "cell_type": "markdown",
   "metadata": {},
   "source": [
    "![image description](Map.png)"
   ]
  },
  {
   "cell_type": "code",
   "execution_count": 22,
   "metadata": {},
   "outputs": [
    {
     "name": "stdout",
     "output_type": "stream",
     "text": [
      "OUTPUT:\n",
      "Below is a list of the nodes in the search tree, along with all the children associated with each parent node.\n",
      "\n",
      "Complete Map:\n",
      "\n",
      "SU ['SIE', 'MME', '2ndStG']\n",
      "SIE ['SU', 'ChBld']\n",
      "MME ['SU', 'YH', 'SofI', 'S&Hsci']\n",
      "2ndStG ['SU', 'IofR']\n",
      "ChBld ['SIE', 'YH']\n",
      "YH ['MME', 'ChBld', 'SofI']\n",
      "SofI ['MME', 'CCP', 'YH']\n",
      "S&Hsci ['MME', 'IofR', 'ECE']\n",
      "IofR ['2ndStG', 'S&Hsci']\n",
      "ECE ['S&Hsci']\n",
      "CCP ['SofI', 'ArchB']\n",
      "ArchB ['CCP']\n"
     ]
    }
   ],
   "source": [
    "print(\"OUTPUT:\")\n",
    "print(\"Below is a list of the nodes in the search tree, along with all the children associated with each parent node.\")\n",
    "print(\"\\nComplete Map:\\n\")\n",
    "\n",
    "for l in delivery_locations:\n",
    "    print(l,[n.name for n in campus_map[l].children])"
   ]
  },
  {
   "attachments": {},
   "cell_type": "markdown",
   "metadata": {},
   "source": [
    "### Randomly Block one of the paths\n",
    "\n",
    "At the student union node (SU), and the Yuma Hall node (YH), one of the edges are randomly eliminated from each. This represents a blocked path."
   ]
  },
  {
   "cell_type": "code",
   "execution_count": 23,
   "metadata": {},
   "outputs": [
    {
     "name": "stdout",
     "output_type": "stream",
     "text": [
      "OUTPUT:\n",
      "Below are the nodes remaining after randomly blocking one of the edges at the SU and YH nodes:\n",
      "\n",
      "Remaining Children for  SU :\n",
      "['SIE', '2ndStG']\n",
      "Remaining Children for  YH :\n",
      "['MME', 'ChBld']\n"
     ]
    }
   ],
   "source": [
    "# There is maintenance all the time around Yuma Hall and The Student Union\n",
    "# At Yuma, and at the Student Union, one path from each node is randomly blocked!!\n",
    "block_nodes = [\"SU\", \"YH\"]\n",
    "\n",
    "campus_map = Tree.read_node_from_file(\"graph_data\")\n",
    "\n",
    "print(\"OUTPUT:\")\n",
    "print(\"Below are the nodes remaining after randomly blocking one of the edges at the SU and YH nodes:\\n\")\n",
    "\n",
    "for node in block_nodes:\n",
    "    random_index = random.randint(0,len(campus_map[node].children)-1) # Choose a random number\n",
    "\n",
    "    child_to_drop = (campus_map[node].children)[random_index]\n",
    "\n",
    "    # To block path, we must remove the children relationships between the two nodes\n",
    "    child_to_drop.children.remove(campus_map[node]) # Remove parent node from child\n",
    "    campus_map[node].children.pop(random_index) # Remove child from parent node\n",
    "\n",
    "    print(\"Remaining Children for \", node, \":\")\n",
    "    print([name.name for name in campus_map[node].children])"
   ]
  },
  {
   "cell_type": "code",
   "execution_count": 24,
   "metadata": {},
   "outputs": [
    {
     "name": "stdout",
     "output_type": "stream",
     "text": [
      "OUTPUT:\n",
      "Below is a list of the nodes in the search tree, along with all the children associated with each parent node.\n",
      "\n",
      "New Map:\n",
      "\n",
      "SU ['SIE', '2ndStG']\n",
      "SIE ['SU', 'ChBld']\n",
      "MME ['YH', 'SofI', 'S&Hsci']\n",
      "2ndStG ['SU', 'IofR']\n",
      "ChBld ['SIE', 'YH']\n",
      "YH ['MME', 'ChBld']\n",
      "SofI ['MME', 'CCP']\n",
      "S&Hsci ['MME', 'IofR', 'ECE']\n",
      "IofR ['2ndStG', 'S&Hsci']\n",
      "ECE ['S&Hsci']\n",
      "CCP ['SofI', 'ArchB']\n",
      "ArchB ['CCP']\n"
     ]
    }
   ],
   "source": [
    "print(\"OUTPUT:\")\n",
    "print(\"Below is a list of the nodes in the search tree, along with all the children associated with each parent node.\")\n",
    "print(\"\\nNew Map:\\n\")\n",
    "\n",
    "for l in delivery_locations:\n",
    "    print(l,[n.name for n in campus_map[l].children])"
   ]
  },
  {
   "attachments": {},
   "cell_type": "markdown",
   "metadata": {},
   "source": [
    "### Define a list of orders\n",
    "\n",
    "Manually define your choices, Or randomly select delivery locations and food items"
   ]
  },
  {
   "attachments": {},
   "cell_type": "markdown",
   "metadata": {},
   "source": [
    "#### Manual Order Creation"
   ]
  },
  {
   "cell_type": "code",
   "execution_count": 25,
   "metadata": {},
   "outputs": [
    {
     "name": "stdout",
     "output_type": "stream",
     "text": [
      "OUTPUT:\n",
      "Below is a list of manually defined orders. Each order has a location, food items, and the state class defined for it.\n",
      " The state class is a custom module designed for this search tree.\n"
     ]
    },
    {
     "data": {
      "text/plain": [
       "[{'Location': 'SU',\n",
       "  'State': <tree_search.Node at 0x12a3d980640>,\n",
       "  'Items': ['Chickfila']},\n",
       " {'Location': 'SIE',\n",
       "  'State': <tree_search.Node at 0x12a3d7af940>,\n",
       "  'Items': ['Burger']},\n",
       " {'Location': 'YH',\n",
       "  'State': <tree_search.Node at 0x12a3e7dc430>,\n",
       "  'Items': ['Canes']},\n",
       " {'Location': 'SofI',\n",
       "  'State': <tree_search.Node at 0x12a3e7de170>,\n",
       "  'Items': ['Burrito']},\n",
       " {'Location': 'SIE',\n",
       "  'State': <tree_search.Node at 0x12a3d7af940>,\n",
       "  'Items': ['Panera']}]"
      ]
     },
     "execution_count": 25,
     "metadata": {},
     "output_type": "execute_result"
    }
   ],
   "source": [
    "order1 = {\"Location\": \"SU\",\n",
    "         \"State\": campus_map[\"SU\"],\n",
    "         \"Items\": [\"Chickfila\"]}\n",
    "order2 = {\"Location\": \"SIE\",\n",
    "         \"State\": campus_map[\"SIE\"],\n",
    "         \"Items\": [\"Burger\"]}\n",
    "order3 = {\"Location\": \"YH\",\n",
    "         \"State\": campus_map[\"YH\"],\n",
    "         \"Items\": [\"Canes\"]}\n",
    "order4 = {\"Location\": \"SofI\",\n",
    "         \"State\": campus_map[\"SofI\"],\n",
    "         \"Items\": [\"Burrito\"]}\n",
    "order5 = {\"Location\": \"SIE\",\n",
    "         \"State\": campus_map[\"SIE\"],\n",
    "         \"Items\": [\"Panera\"]}\n",
    "\n",
    "orders = [order1, order2, order3, order4, order5]\n",
    "\n",
    "print(\"OUTPUT:\")\n",
    "print(\"Below is a list of manually defined orders. Each order has a location, food items, and the state class defined for it.\\n The state class is a custom module designed for this search tree.\")\n",
    "\n",
    "orders"
   ]
  },
  {
   "attachments": {},
   "cell_type": "markdown",
   "metadata": {},
   "source": [
    "#### Random Order Creation"
   ]
  },
  {
   "cell_type": "code",
   "execution_count": 26,
   "metadata": {},
   "outputs": [
    {
     "name": "stdout",
     "output_type": "stream",
     "text": [
      "OUTPUT:\n",
      "Below is a list of orders that were randomly generated using the above code. \n",
      "Random locations, and items are selected, and the results are stored in the list output below.\n"
     ]
    },
    {
     "data": {
      "text/plain": [
       "[{'Location': 'SIE',\n",
       "  'State': <tree_search.Node at 0x12a3d7af940>,\n",
       "  'Items': ['Panera Salad', 'Iced Tea']},\n",
       " {'Location': 'ChBld',\n",
       "  'State': <tree_search.Node at 0x12a3e7dd840>,\n",
       "  'Items': ['Steak', 'Potatoes']},\n",
       " {'Location': 'CCP',\n",
       "  'State': <tree_search.Node at 0x12a3e7de260>,\n",
       "  'Items': ['Chickfila']},\n",
       " {'Location': 'YH',\n",
       "  'State': <tree_search.Node at 0x12a3e7dc430>,\n",
       "  'Items': ['Coffee', 'Bagel']},\n",
       " {'Location': 'SIE',\n",
       "  'State': <tree_search.Node at 0x12a3d7af940>,\n",
       "  'Items': ['Steak', 'Potatoes']}]"
      ]
     },
     "execution_count": 26,
     "metadata": {},
     "output_type": "execute_result"
    }
   ],
   "source": [
    "orders = []\n",
    "\n",
    "food_items = [\n",
    "    [\"Burrito\"],\n",
    "    [\"Coffee\", \"Bagel\"],\n",
    "    [\"Chickfila\"],\n",
    "    [\"Panera Salad\", \"Iced Tea\"],\n",
    "    [\"Canes Chicken Fingers\", \"Lemonade\"],\n",
    "    [\"Fruit Bowl\"],\n",
    "    [\"Tacos\", \"Coca Cola\"],\n",
    "    [\"Steak\", \"Potatoes\"],\n",
    "    [\"Wine\", \"Filet Mignon\", \"Asparagus\"]\n",
    "]\n",
    "\n",
    "maxOrders = 5\n",
    "\n",
    "random_indexes = random.sample(range(1,len(delivery_locations)), maxOrders-1) # Choose a set of unique random numbers\n",
    "random_indexes.append(random.randint(1,len(delivery_locations)-1))\n",
    "\n",
    "for random_index in random_indexes:\n",
    "    order = {}\n",
    "\n",
    "    location = delivery_locations[random_index]\n",
    "\n",
    "    rand_food_item_index = random.randint(1,len(food_items)-1) # For food items\n",
    "\n",
    "    order[\"Location\"] = location\n",
    "    order[\"State\"] = campus_map[location]\n",
    "    order[\"Items\"] = food_items[rand_food_item_index]\n",
    "\n",
    "    orders.append(order)\n",
    "\n",
    "print(\"OUTPUT:\")\n",
    "print(\"Below is a list of orders that were randomly generated using the above code. \\nRandom locations, and items are selected, and the results are stored in the list output below.\")\n",
    "\n",
    "orders"
   ]
  },
  {
   "attachments": {},
   "cell_type": "markdown",
   "metadata": {},
   "source": [
    "Assignments"
   ]
  },
  {
   "cell_type": "code",
   "execution_count": 27,
   "metadata": {},
   "outputs": [
    {
     "name": "stdout",
     "output_type": "stream",
     "text": [
      "[{'Location': 'SIE', 'State': <tree_search.Node object at 0x0000012A3D7AF940>, 'Items': ['Panera Salad', 'Iced Tea']}, {'Location': 'ChBld', 'State': <tree_search.Node object at 0x0000012A3E7DD840>, 'Items': ['Steak', 'Potatoes']}, {'Location': 'CCP', 'State': <tree_search.Node object at 0x0000012A3E7DE260>, 'Items': ['Chickfila']}, {'Location': 'YH', 'State': <tree_search.Node object at 0x0000012A3E7DC430>, 'Items': ['Coffee', 'Bagel']}, {'Location': 'SIE', 'State': <tree_search.Node object at 0x0000012A3D7AF940>, 'Items': ['Steak', 'Potatoes']}]\n",
      "[{'Location': 'SIE', 'State': <tree_search.Node object at 0x0000012A3D7AF940>, 'Items': ['Panera Salad', 'Iced Tea']}, {'Location': 'SIE', 'State': <tree_search.Node object at 0x0000012A3D7AF940>, 'Items': ['Steak', 'Potatoes']}]\n",
      "[{'Location': 'ChBld', 'State': <tree_search.Node object at 0x0000012A3E7DD840>, 'Items': ['Steak', 'Potatoes']}, {'Location': 'CCP', 'State': <tree_search.Node object at 0x0000012A3E7DE260>, 'Items': ['Chickfila']}, {'Location': 'YH', 'State': <tree_search.Node object at 0x0000012A3E7DC430>, 'Items': ['Coffee', 'Bagel']}]\n",
      "OUTPUT:\n",
      "The orders created before are now assigned to one of three Foodie delivery robots. \n",
      " Below are the orders stored in a dictionary where the keys are Bot1, Bot2, and Bot3.\n"
     ]
    },
    {
     "data": {
      "text/plain": [
       "{'Bot1': [{'Location': 'SIE',\n",
       "   'State': <tree_search.Node at 0x12a3d7af940>,\n",
       "   'Items': ['Panera Salad', 'Iced Tea']},\n",
       "  {'Location': 'SIE',\n",
       "   'State': <tree_search.Node at 0x12a3d7af940>,\n",
       "   'Items': ['Steak', 'Potatoes']}],\n",
       " 'Bot2': [{'Location': 'ChBld',\n",
       "   'State': <tree_search.Node at 0x12a3e7dd840>,\n",
       "   'Items': ['Steak', 'Potatoes']},\n",
       "  {'Location': 'CCP',\n",
       "   'State': <tree_search.Node at 0x12a3e7de260>,\n",
       "   'Items': ['Chickfila']}],\n",
       " 'Bot3': [{'Location': 'YH',\n",
       "   'State': <tree_search.Node at 0x12a3e7dc430>,\n",
       "   'Items': ['Coffee', 'Bagel']}]}"
      ]
     },
     "execution_count": 27,
     "metadata": {},
     "output_type": "execute_result"
    }
   ],
   "source": [
    "botAssignments = {}\n",
    "\n",
    "\n",
    "for bot in [\"Bot1\", \"Bot2\", \"Bot3\"]:\n",
    "    botAssignments[bot] = []\n",
    "\n",
    "    for i in range(len(orders)):\n",
    "\n",
    "        order_ = orders[0]\n",
    "        locations = [order[\"Location\"] for order in orders]\n",
    "\n",
    "        if locations.count(order_[\"Location\"]) >= 2:\n",
    "\n",
    "            same_location_orders = [o for o in orders if order_[\"Location\"] == o[\"Location\"]]\n",
    "            \n",
    "            print(orders)\n",
    "            botAssignments[bot] = same_location_orders\n",
    "            print(same_location_orders)\n",
    "            orders.remove(same_location_orders[0])\n",
    "            orders.remove(same_location_orders[1])\n",
    "            print(orders)\n",
    "\n",
    "        else:\n",
    "            botAssignments[bot].append(order_)\n",
    "            orders.remove(order_)\n",
    "\n",
    "        if len(botAssignments[bot]) == 2:\n",
    "            break\n",
    "\n",
    "print(\"OUTPUT:\")\n",
    "print(\"The orders created before are now assigned to one of three Foodie delivery robots. \\n Below are the orders stored in a dictionary where the keys are Bot1, Bot2, and Bot3.\")\n",
    "\n",
    "botAssignments"
   ]
  },
  {
   "attachments": {},
   "cell_type": "markdown",
   "metadata": {},
   "source": [
    "### Delivery (A-Star)"
   ]
  },
  {
   "cell_type": "code",
   "execution_count": 28,
   "metadata": {},
   "outputs": [
    {
     "name": "stdout",
     "output_type": "stream",
     "text": [
      "OUTPUT:\n",
      "This cell calculates the ideal path based on the A-Star search algorithm. \n",
      "For each delivery bot, and for each order, the path is plotted below. The robots start at the Student Union (SU),       \n",
      "drive to the first delivery location, then drive to the second delivery location, and finally return to the Student Union again.\n",
      "The overall path is printed in 2 or 3 segments depending on how many orders are delivered. The labels for each node are printed in chronological order. \n",
      "\n",
      ">>>>  Bot1  <<<<\n",
      "ORDER  1\n",
      "Delivery Location: SIE      Items:  ['Panera Salad', 'Iced Tea']\n",
      "ORDER  2\n",
      "Delivery Location: SIE      Items:  ['Steak', 'Potatoes']\n",
      "TOTAL ENERGY USED:  150.0\n",
      "Overall Path: [['SU', 'SIE'], ['SIE', 'SU']]\n",
      "\n",
      ">>>>  Bot2  <<<<\n",
      "ORDER  1\n",
      "Delivery Location: ChBld      Items:  ['Steak', 'Potatoes']\n",
      "ORDER  2\n",
      "Delivery Location: CCP      Items:  ['Chickfila']\n",
      "TOTAL ENERGY USED:  2915.0\n",
      "Overall Path: [['SU', 'SIE', 'ChBld'], ['ChBld', 'YH', 'MME', 'SofI', 'CCP'], ['CCP', 'SofI', 'MME', 'YH', 'ChBld', 'SIE', 'SU']]\n",
      "\n",
      ">>>>  Bot3  <<<<\n",
      "ORDER  1\n",
      "Delivery Location: YH      Items:  ['Coffee', 'Bagel']\n",
      "TOTAL ENERGY USED:  1088.0\n",
      "Overall Path: [['SU', 'SIE', 'ChBld', 'YH'], ['YH', 'ChBld', 'SIE', 'SU']]\n",
      "\n"
     ]
    }
   ],
   "source": [
    "start_state = \"SU\" # Order pickup location\n",
    "\n",
    "print(\"OUTPUT:\")\n",
    "print(\"This cell calculates the ideal path based on the A-Star search algorithm. \\nFor each delivery bot, and for each order, the path is plotted below. The robots start at the Student Union (SU), \\\n",
    "      \\ndrive to the first delivery location, then drive to the second delivery location, and finally return to the Student Union again.\\nThe overall path is printed in 2 or 3 segments \\\n",
    "depending on how many orders are delivered. The labels for each node are printed in chronological order. \\n\")\n",
    "\n",
    "for bot in botAssignments:\n",
    "    if bot == \"Bot3\" and len(botAssignments[bot]) == 0:\n",
    "        break\n",
    "    \n",
    "    overall_path = []\n",
    "    total_cost = 0\n",
    "\n",
    "    assignments = botAssignments[bot]\n",
    "\n",
    "    if (len(assignments) == 1) or ( (len(assignments) == 2) and (assignments[0][\"Location\"] == assignments[1][\"Location\"]) ):\n",
    "        path, cost = search.astar(start_state, assignments[0][\"Location\"], campus_map)\n",
    "        overall_path.append(path)\n",
    "        #print(overall_path)\n",
    "        if cost is not None:\n",
    "            total_cost += cost\n",
    "\n",
    "        path, cost = search.astar(assignments[0][\"Location\"], start_state, campus_map)\n",
    "        overall_path.append(path)\n",
    "        #print(overall_path)\n",
    "        if cost is not None:\n",
    "            total_cost += cost\n",
    "\n",
    "    else:\n",
    "        path, cost = search.astar(start_state, assignments[0][\"Location\"], campus_map)\n",
    "        overall_path.append(path)\n",
    "        #print(overall_path)\n",
    "        if cost is not None:\n",
    "            total_cost += cost\n",
    "\n",
    "        path, cost = search.astar(assignments[0][\"Location\"], assignments[1][\"Location\"], campus_map)\n",
    "        overall_path.append(path)\n",
    "        #print(overall_path)\n",
    "        if cost is not None:\n",
    "            total_cost += cost\n",
    "\n",
    "        path, cost = search.astar(assignments[1][\"Location\"], start_state, campus_map)\n",
    "        overall_path.append(path)\n",
    "        #print(overall_path)\n",
    "        if cost is not None:\n",
    "            total_cost += cost\n",
    "\n",
    "    print(\">>>> \", bot, \" <<<<\")\n",
    "    for i,order in enumerate(botAssignments[bot]):\n",
    "        if total_cost == 0:\n",
    "            print(\"No Path to Delivery Location\")\n",
    "\n",
    "        print(\"ORDER \", i+1)\n",
    "        print(\"Delivery Location:\", order[\"Location\"],\"     Items: \", order[\"Items\"])\n",
    "\n",
    "    print(\"TOTAL ENERGY USED: \", total_cost)\n",
    "    print(\"Overall Path:\", overall_path)\n",
    "    print()"
   ]
  }
 ],
 "metadata": {
  "kernelspec": {
   "display_name": "base",
   "language": "python",
   "name": "python3"
  },
  "language_info": {
   "codemirror_mode": {
    "name": "ipython",
    "version": 3
   },
   "file_extension": ".py",
   "mimetype": "text/x-python",
   "name": "python",
   "nbconvert_exporter": "python",
   "pygments_lexer": "ipython3",
   "version": "3.10.9"
  },
  "orig_nbformat": 4
 },
 "nbformat": 4,
 "nbformat_minor": 2
}
